{
 "cells": [
  {
   "cell_type": "markdown",
   "metadata": {},
   "source": [
    "# Load some libraries"
   ]
  },
  {
   "cell_type": "code",
   "execution_count": null,
   "metadata": {},
   "outputs": [],
   "source": [
    "import numpy as np\n",
    "import matplotlib.pyplot as plt\n",
    "import skimage.morphology as morph\n",
    "import skimage.measure as measure\n",
    "from skimage import filters\n",
    "from scipy import ndimage\n",
    "%matplotlib inline"
   ]
  },
  {
   "cell_type": "markdown",
   "metadata": {},
   "source": [
    "# Assignment"
   ]
  },
  {
   "cell_type": "markdown",
   "metadata": {},
   "source": [
    "You have an image with round regions that you want to identify and create an image with only these features visible. In this assignment you will have to use knowledge from other assignments and all lectures.\n",
    "\n",
    "1. Histograms\n",
    "2. Filters\n",
    "3. Thresholding\n",
    "4. Cleaning\n",
    "5. Labeling\n",
    "6. Measure region properties\n",
    "7. Classification based on abstract properties\n",
    "8. Item extraction"
   ]
  },
  {
   "cell_type": "markdown",
   "metadata": {},
   "source": [
    "## Load image\n",
    "Load the image 'psi_slice_noisy.tif' and show it"
   ]
  },
  {
   "cell_type": "code",
   "execution_count": null,
   "metadata": {},
   "outputs": [],
   "source": [
    "# img = \n",
    "img=np.mean(plt.imread('psi_slice_noisy.tif'),axis=2)\n",
    "plt.imshow(img)\n",
    "print(img.shape, np.max(img),np.min(img))"
   ]
  },
  {
   "cell_type": "markdown",
   "metadata": {},
   "source": [
    "## Look at the histogram"
   ]
  },
  {
   "cell_type": "code",
   "execution_count": null,
   "metadata": {},
   "outputs": [],
   "source": [
    "hist,ax=np.histogram(img,bins=250)\n",
    "plt.plot(ax[1:-1], hist[1:])\n",
    "plt.xlabel('Gray level bins')\n",
    "plt.ylabel('Counts')\n",
    "plt.title('Histogram of the raw image')"
   ]
  },
  {
   "cell_type": "markdown",
   "metadata": {},
   "source": [
    "The image looks rather noisy... i.e. it has low SNR. Improve the SNR using a filter. Show the image and its histogram after filtering. The histogram is also incomplete on the left sie, i.e. the noise distribution is truncated."
   ]
  },
  {
   "cell_type": "code",
   "execution_count": null,
   "metadata": {},
   "outputs": [],
   "source": [
    "fimg=filters.gaussian(img,sigma=2)\n",
    "plt.figure(figsize=[12,5])\n",
    "plt.subplot(1,2,1)\n",
    "plt.imshow(fimg)\n",
    "plt.title('Filtered image')\n",
    "plt.subplot(1,2,2)\n",
    "fhist,fax=np.histogram(fimg,bins=250)\n",
    "plt.plot(ax[1:-1], hist[1:],label='Raw histogram')\n",
    "plt.plot(fax[1:-1], fhist[1:],label='Histogram after filter')\n",
    "plt.xlabel('Gray level bins')\n",
    "plt.ylabel('Counts')\n",
    "plt.title('Histograms')\n",
    "plt.legend()"
   ]
  },
  {
   "cell_type": "markdown",
   "metadata": {},
   "source": [
    "Get a threshold using an automatic method provided by SciKit Image and apply to the image"
   ]
  },
  {
   "cell_type": "code",
   "execution_count": null,
   "metadata": {},
   "outputs": [],
   "source": [
    "otsu = filters.threshold_otsu(fimg)\n",
    "print('The threshold according to',otsu)\n",
    "bimg=otsu<fimg\n",
    "plt.imshow(bimg)\n",
    "plt.title('Otsu')"
   ]
  },
  {
   "cell_type": "markdown",
   "metadata": {},
   "source": [
    "As you see this threshold only separates background from sample. What we need is to compute the threshold from the sample pixels only. The function below helps you doing this."
   ]
  },
  {
   "cell_type": "code",
   "execution_count": null,
   "metadata": {},
   "outputs": [],
   "source": [
    "def maskedOtsu(img,mask) :\n",
    "    data=[]\n",
    "    dims=img.shape\n",
    "    for r in np.arange(0,dims[1]) :\n",
    "        for c in np.arange(0,dims[0]) :\n",
    "            if (mask[r,c]!=0) :\n",
    "                data.append(img[r,c]) # puts pixel values from the masked region in a list\n",
    "            \n",
    "    ndata=np.asarray(data) \n",
    "    return filters.threshold_otsu(ndata)\n"
   ]
  },
  {
   "cell_type": "markdown",
   "metadata": {},
   "source": [
    "Use the previous bi-level image as mask and find a useful threshold with maskedOtsu. "
   ]
  },
  {
   "cell_type": "code",
   "execution_count": null,
   "metadata": {},
   "outputs": [],
   "source": [
    "otsu2=maskedOtsu(fimg,bimg)\n",
    "bimg2=otsu2<fimg\n",
    "\n",
    "plt.imshow(bimg2)\n",
    "plt.title('Thresholded with mask')"
   ]
  },
  {
   "cell_type": "markdown",
   "metadata": {},
   "source": [
    "In bimg2 some pixels are misclassified. Use morphological operation to clean this."
   ]
  },
  {
   "cell_type": "code",
   "execution_count": null,
   "metadata": {},
   "outputs": [],
   "source": [
    "clean=morph.closing(bimg2,morph.square(3))\n",
    "plt.imshow(clean)"
   ]
  },
  {
   "cell_type": "markdown",
   "metadata": {},
   "source": [
    "## Labeling"
   ]
  },
  {
   "cell_type": "markdown",
   "metadata": {},
   "source": [
    "Now, the image is ready to label. For this you have two choices connected pixels labeling or watershed. Which makes more sense here?"
   ]
  },
  {
   "cell_type": "code",
   "execution_count": null,
   "metadata": {},
   "outputs": [],
   "source": [
    "lbl=morph.label(clean)\n",
    "plt.imshow(lbl)"
   ]
  },
  {
   "cell_type": "markdown",
   "metadata": {},
   "source": [
    "No matter which method you chose. More regions than the round ones are labeled. We have to find a method to classify which ones we want to keep."
   ]
  },
  {
   "cell_type": "markdown",
   "metadata": {},
   "source": [
    "## Identify the discs"
   ]
  },
  {
   "cell_type": "markdown",
   "metadata": {},
   "source": [
    "The first step is to measure some properties of different items. Use the library scikit.image function region properties to make measurements on the segmented regions.\n",
    "\n",
    "http://scikit-image.org/docs/dev/api/skimage.measure.html#skimage.measure.regionprops  \n",
    "\n",
    "Select pairs of scalar properties and decide if they help you to identify the disks."
   ]
  },
  {
   "cell_type": "code",
   "execution_count": null,
   "metadata": {},
   "outputs": [],
   "source": [
    "m=measure.regionprops(lbl)\n",
    "p1=[]\n",
    "p2=[]\n",
    "for prop in m:\n",
    "    p1.append(prop.area)\n",
    "    p2.append(prop.perimeter)\n",
    "    \n",
    "plt.plot(p1,p2,'+')\n",
    "plt.xlabel('Property 1')\n",
    "plt.ylabel('Property 2')"
   ]
  },
  {
   "cell_type": "markdown",
   "metadata": {},
   "source": [
    "Selecting the item is done by applying thresholds on each property. Is done in the function below. Plese complete the test in the function  "
   ]
  },
  {
   "cell_type": "code",
   "execution_count": null,
   "metadata": {},
   "outputs": [],
   "source": [
    "def selectItems(m,p1,p2,th1,th2) :\n",
    "    selection = []\n",
    "    for i in np.arange(0,len(p1)) :\n",
    "        if ((th1<p1[i]) & (p2[i]<th2)) : # here you may have to modify the tests\n",
    "            selection.append(m[i])\n",
    "            \n",
    "    return selection"
   ]
  },
  {
   "cell_type": "code",
   "execution_count": null,
   "metadata": {},
   "outputs": [],
   "source": [
    "# Enter you thresholds here to test if the function works\n",
    "th1=3500\n",
    "th2=350\n",
    "selection=selectItems(m,p1,p2,th1,th2) \n",
    "print('Found 14 items',len(selection)==14)"
   ]
  },
  {
   "cell_type": "markdown",
   "metadata": {},
   "source": [
    "## Extract the disks"
   ]
  },
  {
   "cell_type": "markdown",
   "metadata": {},
   "source": [
    "Morphological reconstruction is a method to extract the regions. For this to work you need to create a marker image using the positons of the disks. The marker is zero valued except on the centroids of each disk which has the value of disk label."
   ]
  },
  {
   "cell_type": "code",
   "execution_count": null,
   "metadata": {},
   "outputs": [],
   "source": [
    "marker=np.zeros(lbl.shape)\n",
    "\n",
    "for prop in selection :\n",
    "    x=np.round(prop.centroid[0]).astype(int)\n",
    "    y=np.round(prop.centroid[1]).astype(int)\n",
    "    marker[x,y]=lbl[x,y]\n",
    "    \n",
    "final=morph.reconstruction(marker,lbl)\n",
    "plt.imshow(final)"
   ]
  },
  {
   "cell_type": "code",
   "execution_count": null,
   "metadata": {},
   "outputs": [],
   "source": []
  }
 ],
 "metadata": {
  "kernelspec": {
   "display_name": "Python 3",
   "language": "python",
   "name": "python3"
  },
  "language_info": {
   "codemirror_mode": {
    "name": "ipython",
    "version": 3
   },
   "file_extension": ".py",
   "mimetype": "text/x-python",
   "name": "python",
   "nbconvert_exporter": "python",
   "pygments_lexer": "ipython3",
   "version": "3.7.3"
  }
 },
 "nbformat": 4,
 "nbformat_minor": 4
}
